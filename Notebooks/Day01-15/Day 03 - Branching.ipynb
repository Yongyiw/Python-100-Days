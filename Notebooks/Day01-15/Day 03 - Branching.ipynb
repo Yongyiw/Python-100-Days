{
 "cells": [
  {
   "cell_type": "markdown",
   "metadata": {},
   "source": [
    "# Day 03 Branching (`if`, `elif` and `else`)"
   ]
  },
  {
   "cell_type": "code",
   "execution_count": 2,
   "metadata": {},
   "outputs": [
    {
     "name": "stdout",
     "output_type": "stream",
     "text": [
      "请输入用户名: admin\n",
      "请输入口令: ········\n",
      "身份验证成功!\n"
     ]
    }
   ],
   "source": [
    "\"\"\"\n",
    "User Authentication Example\n",
    "\n",
    "Version: 0.1\n",
    "Author: 骆昊\n",
    "\"\"\"\n",
    "\n",
    "username = input('Please input username: ')\n",
    "\n",
    "import getpass # a portable password input library.\n",
    "password = getpass.getpass('Please input password: ')\n",
    "\n",
    "if username == 'admin' and password == '123456':\n",
    "    print('身份验证成功!')\n",
    "else:\n",
    "    print('身份验证失败!')"
   ]
  },
  {
   "cell_type": "code",
   "execution_count": 7,
   "metadata": {},
   "outputs": [
    {
     "name": "stdout",
     "output_type": "stream",
     "text": [
      "x = -3\n",
      "f(-3.00) = -12.00\n",
      "\n"
     ]
    }
   ],
   "source": [
    "\"\"\"\n",
    "分段函数求值\n",
    "\t\t3x - 5\t(x > 1)\n",
    "f(x) =\tx + 2\t(-1 <= x <= 1)\n",
    "\t\t5x + 3\t(x < -1)\n",
    "\n",
    "Version: 0.1\n",
    "Author: 骆昊\n",
    "\"\"\"\n",
    "\n",
    "x = float( input( 'x = '))\n",
    "if x > 1:\n",
    "    y = 3 * x - 5\n",
    "elif x >= -1:\n",
    "    y = x + 2\n",
    "else:\n",
    "    y = 5 * x + 3\n",
    "\n",
    "print('f(%.2f) = %.2f' % (x, y))"
   ]
  },
  {
   "cell_type": "code",
   "execution_count": null,
   "metadata": {},
   "outputs": [],
   "source": [
    "\"\"\"\n",
    "Excercise 1: Convert length between inches and centimeters\n",
    "\"\"\"\n",
    "\n",
    "value = float(input('Input Length: '))\n",
    "unit = input('Input unit(in or cm): ')\n",
    "if unit == 'in' or unit == 'IN':\n",
    "    print('%f in = %f cm' % (value, value * 2.54))\n",
    "elif unit == 'cm' or unit == 'CM':\n",
    "    print('%f cm = %f in' % (value, value / 2.54))\n",
    "else:\n",
    "    print('Please input valid unit.')"
   ]
  },
  {
   "cell_type": "code",
   "execution_count": 16,
   "metadata": {},
   "outputs": [
    {
     "name": "stdout",
     "output_type": "stream",
     "text": [
      "Read a book\n"
     ]
    }
   ],
   "source": [
    "\"\"\"\n",
    "Excercise 2: Roll a Dice\n",
    "\"\"\"\n",
    "\n",
    "from random import randint\n",
    "\n",
    "face = randint(1, 6)\n",
    "if face == 1:\n",
    "    result = 'Learn a new language'\n",
    "elif face == 2:\n",
    "    result = 'Talk to a strange'\n",
    "elif face == 3:\n",
    "    result = 'Travel to a new city'\n",
    "elif face == 4:\n",
    "    result = 'Read a book'\n",
    "elif face == 5:\n",
    "    result = 'Take a nap'\n",
    "else:\n",
    "    result = 'Go see your family'\n",
    "print(result)"
   ]
  },
  {
   "cell_type": "code",
   "execution_count": 11,
   "metadata": {},
   "outputs": [
    {
     "name": "stdout",
     "output_type": "stream",
     "text": [
      "Please input the percent:90\n",
      "The grade is:  A\n"
     ]
    }
   ],
   "source": [
    "\"\"\"\n",
    "Exercise 3:\n",
    "Convert Percent to Grade\n",
    "\"\"\"\n",
    "\n",
    "score = float(input('Please input the percent:'))\n",
    "if score >= 90:\n",
    "    grade = 'A'\n",
    "elif score >= 80:\n",
    "    grade = 'B'\n",
    "elif score >= 70:\n",
    "    grade = 'C'\n",
    "elif score >= 60:\n",
    "    grade = 'D'\n",
    "else:\n",
    "    grade = 'E'\n",
    "print('The grade is: ', grade)\n"
   ]
  },
  {
   "cell_type": "code",
   "execution_count": 18,
   "metadata": {},
   "outputs": [
    {
     "name": "stdout",
     "output_type": "stream",
     "text": [
      "a = 2\n",
      "b = 5\n",
      "c = 6\n",
      "Circumference: 13.000000\n",
      "Area: 4.683748\n"
     ]
    }
   ],
   "source": [
    "\"\"\"\n",
    "Excercise 4:\n",
    "Determine whether the three input edges can form a triangle. \n",
    "If so output the circumference and the area.\n",
    "\"\"\"\n",
    "\n",
    "import math\n",
    "\n",
    "a = float(input('a = '))\n",
    "b = float(input('b = '))\n",
    "c = float(input('c = '))\n",
    "\n",
    "if a + b > c and b + c > a and a + c > b:\n",
    "    print('Circumference: %f' % (a + b + c))\n",
    "    c_half = (a + b + c) / 2\n",
    "    # Heron's formula\n",
    "    area = math.sqrt(c_half * (c_half - a) * (c_half - b) * (c_half - c))\n",
    "    print('Area: %f' % (area))\n",
    "else:\n",
    "    print('Cannot form a valid triangle.')\n"
   ]
  },
  {
   "cell_type": "code",
   "execution_count": 19,
   "metadata": {},
   "outputs": [
    {
     "name": "stdout",
     "output_type": "stream",
     "text": [
      "Salary: 1000\n",
      "Insurance: 200\n",
      "Tax: ￥0.00元\n",
      "Income after tax: ￥800.00元\n"
     ]
    }
   ],
   "source": [
    "\"\"\"\n",
    "Excercise 5: \n",
    "Caluate the monthly income after tax and insurance.\n",
    "\"\"\"\n",
    "\n",
    "salary = float(input('Salary: '))\n",
    "insurance = float(input('Insurance: '))\n",
    "diff = salary - insurance - 3500\n",
    "if diff <= 0:\n",
    "    rate = 0\n",
    "    deduction = 0\n",
    "elif diff < 1500:\n",
    "    rate = 0.03\n",
    "    deduction = 0\n",
    "elif diff < 4500:\n",
    "    rate = 0.1\n",
    "    deduction = 105\n",
    "elif diff < 9000:\n",
    "    rate = 0.2\n",
    "    deduction = 555\n",
    "elif diff < 35000:\n",
    "    rate = 0.25\n",
    "    deduction = 1005\n",
    "elif diff < 55000:\n",
    "    rate = 0.3\n",
    "    deduction = 2755\n",
    "elif diff < 80000:\n",
    "    rate = 0.35\n",
    "    deduction = 5505\n",
    "else:\n",
    "    rate = 0.45\n",
    "    deduction = 13505\n",
    "tax = abs(diff * rate - deduction)\n",
    "print('Tax: ￥%.2f元' % tax)\n",
    "print('Income after tax: ￥%.2f元' % (diff + 3500 - tax))"
   ]
  },
  {
   "cell_type": "code",
   "execution_count": null,
   "metadata": {},
   "outputs": [],
   "source": []
  }
 ],
 "metadata": {
  "kernelspec": {
   "display_name": "Python 3",
   "language": "python",
   "name": "python3"
  },
  "language_info": {
   "codemirror_mode": {
    "name": "ipython",
    "version": 3
   },
   "file_extension": ".py",
   "mimetype": "text/x-python",
   "name": "python",
   "nbconvert_exporter": "python",
   "pygments_lexer": "ipython3",
   "version": "3.7.3"
  }
 },
 "nbformat": 4,
 "nbformat_minor": 2
}
