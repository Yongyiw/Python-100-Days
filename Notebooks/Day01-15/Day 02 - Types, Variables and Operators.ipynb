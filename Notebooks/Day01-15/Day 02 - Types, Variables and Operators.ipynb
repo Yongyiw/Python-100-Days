{
 "cells": [
  {
   "cell_type": "markdown",
   "metadata": {},
   "source": [
    "# Day 02 Types, Variables and Operators"
   ]
  },
  {
   "cell_type": "markdown",
   "metadata": {},
   "source": [
    "## Types\n",
    "Int: int  \n",
    "1) Python 3 doesn't have limit on Int!  \n",
    "2) Python 2.x: sys.maxint = 9223372036854775807   \n",
    "3) 0b100 = 4, 0o100 = 64, 100 = 100, 0x100 = 256  \n",
    "Float: float  \n",
    "String: str  \n",
    "Boolean: bool  \n",
    "Complex Numbers: complex  \n"
   ]
  },
  {
   "cell_type": "markdown",
   "metadata": {},
   "source": [
    "## Variables name\n",
    "1) case sensitive  \n",
    "2) protected attributes names start with '_'  \n",
    "3) private attributes names start with '__'  "
   ]
  },
  {
   "cell_type": "code",
   "execution_count": 1,
   "metadata": {},
   "outputs": [
    {
     "name": "stdout",
     "output_type": "stream",
     "text": [
      "444\n",
      "198\n",
      "39483\n",
      "2.6097560975609757\n",
      "2\n",
      "75\n",
      "199580904170858944588683464608694075062943107082809027605498347841561605181074274426665986623764972439807786764739130193391688887305693295698132008415537889753720415793877902074665765736230030622222862498385818118244547668141388643750880896837470534556730014314212951333550122949806119583030226121714710874561\n"
     ]
    }
   ],
   "source": [
    "a = 321\n",
    "b = 123\n",
    "print(a + b)\n",
    "print(a - b)\n",
    "print(a * b)\n",
    "print(a / b)\n",
    "print(a // b)\n",
    "print(a % b)\n",
    "print(a ** b)"
   ]
  },
  {
   "cell_type": "code",
   "execution_count": 2,
   "metadata": {},
   "outputs": [
    {
     "name": "stdout",
     "output_type": "stream",
     "text": [
      "a = 123\n",
      "b = 412\n",
      "123 + 412 = 535\n",
      "123 - 412 = -289\n",
      "123 * 412 = 50676\n",
      "123 / 412 = 0.298544\n",
      "123 // 412 = 0\n",
      "123 % 412 = 123\n",
      "123 ** 412 = 1098767773024278860893670706718311165032087248654321834313128714771594418156784754491738710659044774862244198137025026272017431204770165170735708367651116459579864615345873562657277084047070423806854151125143384658916411507589411514833560475706917806527950822553892867012693657164936917412424291044319760106835745337219190422110189339420286175358141874064670316254995945161657066900536741716176531164251803379358223148133574708364266657534086142907236033766567171666534708804862668214281408007432073310340364273972525433804818233023279342009785077516456022365406272091259626334727352406896161877736447748131820718836223166350743169796862771188572394368121826248903126247164424530352649166604178860275657701018267066401365803062285804647996863975059156792852170715944013869959354481120067763253543900144852405052116642022520400405848548276340619406779225654536721\n"
     ]
    }
   ],
   "source": [
    "a = int(input('a = '))\n",
    "b = int(input('b = '))\n",
    "print('%d + %d = %d' % (a, b, a + b))\n",
    "print('%d - %d = %d' % (a, b, a - b))\n",
    "print('%d * %d = %d' % (a, b, a * b))\n",
    "print('%d / %d = %f' % (a, b, a / b))\n",
    "print('%d // %d = %d' % (a, b, a // b))\n",
    "print('%d %% %d = %d' % (a, b, a % b))\n",
    "print('%d ** %d = %d' % (a, b, a ** b))"
   ]
  },
  {
   "cell_type": "code",
   "execution_count": 3,
   "metadata": {},
   "outputs": [
    {
     "name": "stdout",
     "output_type": "stream",
     "text": [
      "<class 'int'>\n",
      "<class 'float'>\n",
      "<class 'complex'>\n",
      "<class 'str'>\n",
      "<class 'bool'>\n"
     ]
    }
   ],
   "source": [
    "a = 100\n",
    "b = 12.345\n",
    "c = 1 + 5j\n",
    "d = 'hello, world'\n",
    "e = True\n",
    "print(type(a))\n",
    "print(type(b))\n",
    "print(type(c))\n",
    "print(type(d))\n",
    "print(type(e))"
   ]
  },
  {
   "cell_type": "markdown",
   "metadata": {},
   "source": [
    "## Operators (Priority From High to Low) \n",
    "\n",
    "| Operators                                                    | Descriptions                          \n",
    "| ------------------------------------------------------------ | ------------------------------ \n",
    "| `[]` `[:]`                                                   | Index, slice                     \n",
    "| `**`                                                         | Exponent                           \n",
    "| `~` `+` `-`                                                  | Binary Ones Complement, plus/minus sign   \n",
    "| `*` `/` `%` `//`                                             | Multiplication，Division，Modulus，Floor Division \n",
    "| `+` `-`                                                      | Addition，Subtraction                         \n",
    "| `>>` `<<`                                                    | Right shift，Left shift                     \n",
    "| `&`                                                          | Bitwise AND                         \n",
    "| `^` <code>&#124;</code>                                      | Bitwise XOR，Bitwise OR             \n",
    "| `<=` `<` `>` `>=`                                            | Comparison operators\n",
    "| `==` `!=`                                                    | Equality operators                   \n",
    "| `is`  `is not`                                               | Identity operators                     \n",
    "| `in` `not in`                                                | Membership operators                     \n",
    "| `not` `or` `and`                                             | Logical operators                   \n",
    "| `=` `+=` `-=` `*=` `/=` `%=` `//=` `**=` `&=` <code>&#124;=</code>  `^=` `>>=` `<<=` | Assignment operators           \n",
    "\n",
    "> It is a good practice to clarify the priority by using parenthesis \"()\" in development."
   ]
  },
  {
   "cell_type": "code",
   "execution_count": 4,
   "metadata": {},
   "outputs": [
    {
     "name": "stdout",
     "output_type": "stream",
     "text": [
      "a =  9.6\n",
      "flag1 =  True\n",
      "flag2 =  False\n",
      "flag3 =  False\n",
      "flag4 =  True\n",
      "flag5 =  False\n",
      "True\n",
      "False\n"
     ]
    }
   ],
   "source": [
    "a = 5\n",
    "b = 10\n",
    "c = 3\n",
    "d = 4\n",
    "e = 5\n",
    "a += b\n",
    "a -= c\n",
    "a *= d\n",
    "a /= e\n",
    "print(\"a = \", a)\n",
    "\n",
    "flag1 = 3 > 2\n",
    "flag2 = 2 < 1\n",
    "flag3 = flag1 and flag2\n",
    "flag4 = flag1 or flag2\n",
    "flag5 = not flag1\n",
    "print(\"flag1 = \", flag1)\n",
    "print(\"flag2 = \", flag2)\n",
    "print(\"flag3 = \", flag3)\n",
    "print(\"flag4 = \", flag4)\n",
    "print(\"flag5 = \", flag5)\n",
    "print(flag1 is True)\n",
    "print(flag2 is not False)"
   ]
  },
  {
   "cell_type": "code",
   "execution_count": 6,
   "metadata": {},
   "outputs": [
    {
     "name": "stdout",
     "output_type": "stream",
     "text": [
      "Temperature in fahrenheit:100\n",
      "100°F = 38°C\n"
     ]
    }
   ],
   "source": [
    "\"\"\"\n",
    "Exercise 1:\n",
    "Convert Fahrenheit to Celsius\n",
    "F = 1.8C + 32\n",
    "\"\"\"\n",
    "\n",
    "f = float(input('Input Temperature in Fahrenheit:'))\n",
    "c = (f - 32) / 1.8\n",
    "print('%.lf°F = %.lf°C' % (f, c))"
   ]
  },
  {
   "cell_type": "code",
   "execution_count": 9,
   "metadata": {},
   "outputs": [
    {
     "name": "stdout",
     "output_type": "stream",
     "text": [
      "Please input radius (meters) of a circle: 100\n",
      "The circumference of the circle is 628.32 m\n",
      "The area of the circle is 31415.93 m2 \n",
      "\n"
     ]
    }
   ],
   "source": [
    "\"\"\"\n",
    "Excercise 2:\n",
    "Find the circumference and the area of a circle with radius\n",
    "\"\"\"\n",
    "\n",
    "import math\n",
    "radius = float(input('Please input radius (meters) of a circle: '))\n",
    "circumference = 2 * math.pi * radius\n",
    "area = math.pi * radius ** 2\n",
    "\n",
    "print('The circumference of the circle is %.2f m' % circumference)\n",
    "print('The area of the circle is %.2f m2 \\n' % area)\n"
   ]
  },
  {
   "cell_type": "code",
   "execution_count": 17,
   "metadata": {},
   "outputs": [
    {
     "name": "stdout",
     "output_type": "stream",
     "text": [
      "Please input a year: 1900\n",
      "False\n"
     ]
    }
   ],
   "source": [
    "\"\"\"\n",
    "Excercise 3:\n",
    "Determine wether the input year is a leap year of not\n",
    "\"\"\"\n",
    "\n",
    "year = int(input(\"Please input a year: \"))\n",
    "is_leap = ( year % 4 == 0 and year % 100 != 0) or (year % 400 == 0)\n",
    "print(is_leap)"
   ]
  }
 ],
 "metadata": {
  "kernelspec": {
   "display_name": "Python 3",
   "language": "python",
   "name": "python3"
  },
  "language_info": {
   "codemirror_mode": {
    "name": "ipython",
    "version": 3
   },
   "file_extension": ".py",
   "mimetype": "text/x-python",
   "name": "python",
   "nbconvert_exporter": "python",
   "pygments_lexer": "ipython3",
   "version": "3.7.3"
  }
 },
 "nbformat": 4,
 "nbformat_minor": 2
}
