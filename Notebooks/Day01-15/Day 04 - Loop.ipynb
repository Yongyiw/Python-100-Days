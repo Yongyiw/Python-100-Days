{
 "cells": [
  {
   "cell_type": "markdown",
   "metadata": {},
   "source": [
    "# Day 04 Loop"
   ]
  },
  {
   "cell_type": "markdown",
   "metadata": {},
   "source": [
    "1. `for-in` loop\n",
    "2. `while` loop"
   ]
  },
  {
   "cell_type": "code",
   "execution_count": 7,
   "metadata": {},
   "outputs": [
    {
     "name": "stdout",
     "output_type": "stream",
     "text": [
      "x = -3\n",
      "f(-3.00) = -12.00\n",
      "\n"
     ]
    }
   ],
   "source": [
    "\"\"\"\n",
    "Sum up 1-100 using for loop.\n",
    "\"\"\"\n",
    "\n",
    "sum = 0\n",
    "for x in range(101):\n",
    "    sum += x\n",
    "print(sum)"
   ]
  },
  {
   "cell_type": "markdown",
   "metadata": {},
   "source": [
    "`Range` type is used to yield a static numeric sequence - such sequence is usually used in a loop. eg:  \n",
    "\n",
    "* `range(101)` produces a sequence of integers from 0 to 100. \n",
    "* `range(1, 100)` produces a sequence of integers from 1 to 99. \n",
    "* `range(1, 100, 2)` produces a sequence of odd numbers from 1 to 99. (2 is the step length)\n"
   ]
  },
  {
   "cell_type": "code",
   "execution_count": 1,
   "metadata": {},
   "outputs": [
    {
     "name": "stdout",
     "output_type": "stream",
     "text": [
      "2550\n"
     ]
    }
   ],
   "source": [
    "\"\"\"\n",
    "Sum up even numbers between 1 and 100 using for\n",
    "\"\"\"\n",
    "\n",
    "sum = 0\n",
    "for x in range(2, 101, 2):\n",
    "    sum += x\n",
    "print(sum)"
   ]
  },
  {
   "cell_type": "code",
   "execution_count": 11,
   "metadata": {},
   "outputs": [
    {
     "name": "stdout",
     "output_type": "stream",
     "text": [
      "Please input the percent:90\n",
      "The grade is:  A\n"
     ]
    }
   ],
   "source": [
    "\"\"\"\n",
    "Or use if statement\n",
    "\"\"\"\n",
    "\n",
    "sum = 0 \n",
    "for x in range(1, 101):\n",
    "    if x % 2 == 0:\n",
    "        sum += x\n",
    "print(sum)\n"
   ]
  },
  {
   "cell_type": "markdown",
   "metadata": {},
   "source": [
    "`while` loops are suitable in the situations when we are not sure about the loop times. `while` loops can be controlled by a `bool` value."
   ]
  },
  {
   "cell_type": "code",
   "execution_count": 4,
   "metadata": {},
   "outputs": [
    {
     "name": "stdout",
     "output_type": "stream",
     "text": [
      "Please input: 1\n",
      "The input number is too small!\n",
      "Please input: 2\n",
      "The input number is too small!\n",
      "Please input: 3\n",
      "The input number is too small!\n",
      "Please input: 50\n",
      "The input number is too big!\n",
      "Please input: 30\n",
      "The input number is too big!\n",
      "Please input: 15\n",
      "The input number is too small!\n",
      "Please input: 23\n",
      "The input number is too small!\n",
      "Please input: 26\n",
      "The input number is too big!\n",
      "Please input: 24\n",
      "The input number is too small!\n",
      "Please input: 25\n",
      "You got it!\n",
      "Guessing times: 10\n",
      "Somebody is not taking this game serious...\n"
     ]
    }
   ],
   "source": [
    "\"\"\"\n",
    "Guessing the number\n",
    "\"\"\"\n",
    "\n",
    "import random\n",
    "\n",
    "answer = random.randint(1, 100)\n",
    "counter = 0\n",
    "while True:\n",
    "    counter += 1\n",
    "    number = int(input('Please input: '))\n",
    "    if number < answer:\n",
    "        print('The input number is too small!')\n",
    "    elif number > answer:\n",
    "        print('The input number is too big!')\n",
    "    else:\n",
    "        print('You got it!')\n",
    "        break\n",
    "print('Guessing times: %d' % counter)\n",
    "if counter > 7:\n",
    "    print('Somebody is not taking this game serious...')"
   ]
  },
  {
   "cell_type": "code",
   "execution_count": 5,
   "metadata": {},
   "outputs": [
    {
     "name": "stdout",
     "output_type": "stream",
     "text": [
      "1*1=1\t\n",
      "2*1=2\t2*2=4\t\n",
      "3*1=3\t3*2=6\t3*3=9\t\n",
      "4*1=4\t4*2=8\t4*3=12\t4*4=16\t\n",
      "5*1=5\t5*2=10\t5*3=15\t5*4=20\t5*5=25\t\n",
      "6*1=6\t6*2=12\t6*3=18\t6*4=24\t6*5=30\t6*6=36\t\n",
      "7*1=7\t7*2=14\t7*3=21\t7*4=28\t7*5=35\t7*6=42\t7*7=49\t\n",
      "8*1=8\t8*2=16\t8*3=24\t8*4=32\t8*5=40\t8*6=48\t8*7=56\t8*8=64\t\n",
      "9*1=9\t9*2=18\t9*3=27\t9*4=36\t9*5=45\t9*6=54\t9*7=63\t9*8=72\t9*9=81\t\n"
     ]
    }
   ],
   "source": [
    "\"\"\"\n",
    "Print out 9*9 multiplication chart\n",
    "\"\"\"\n",
    "\n",
    "for i in range(1, 10):\n",
    "    for j in range(1, i + 1):\n",
    "        print('%d*%d=%d' % (i, j, i * j), end='\\t')\n",
    "    print()"
   ]
  },
  {
   "cell_type": "markdown",
   "metadata": {},
   "source": [
    "# Exercises"
   ]
  },
  {
   "cell_type": "code",
   "execution_count": null,
   "metadata": {},
   "outputs": [],
   "source": [
    "\"\"\"\n",
    "Prime Checker (the number, not Amazon)\n",
    "\"\"\"\n",
    "\n",
    "from math import sqrt\n",
    "\n",
    "num = int(input('Input an integer:'))\n",
    "end = int(sqrt(num))\n",
    "is_prime = True\n",
    "\n",
    "for x in range(2, end + 1):\n",
    "    if num % x == 0\n",
    "        is_prime = False\n",
    "        break\n",
    "\n",
    "if is_prime and num != 1:\n",
    "    print('%d is a prime number.' % num)\n",
    "else:\n",
    "    print('%d is not a prime number.' % num)\n",
    "    "
   ]
  },
  {
   "cell_type": "code",
   "execution_count": null,
   "metadata": {},
   "outputs": [],
   "source": [
    "\"\"\"\n",
    "Maximum common divisor and least common multiple\n",
    "\n",
    "\"\"\"\n",
    "\n",
    "x = int(input('x = '))\n",
    "y = int(input('y = '))\n",
    "if x > y:\n",
    "    x, y = y, x\n",
    "for factor in range(x, 0, -1):\n",
    "    if x % factor == 0 and y % factor == 0:\n",
    "        print('The maximum common divisor of %d and %d is %d.' % (x, y, factor))\n",
    "        print('The least common multiple of %d and %d is %d' % (x, y, x * y // factor))\n",
    "        break"
   ]
  },
  {
   "cell_type": "code",
   "execution_count": null,
   "metadata": {},
   "outputs": [],
   "source": [
    "\"\"\"\n",
    "Print triangles\n",
    "\n",
    "*\n",
    "**\n",
    "***\n",
    "****\n",
    "*****\n",
    "\n",
    "    *\n",
    "   **\n",
    "  ***\n",
    " ****\n",
    "*****\n",
    "\n",
    "    *\n",
    "   ***\n",
    "  *****\n",
    " *******\n",
    "*********\n",
    "\n",
    "Version: 0.1\n",
    "Author: 骆昊\n",
    "\"\"\"\n",
    "\n",
    "row = int(input('Input number of rows: '))\n",
    "for i in range(row):\n",
    "    for _ in range(i + 1):\n",
    "        print('*', end='')\n",
    "    print()\n",
    "\n",
    "\n",
    "for i in range(row):\n",
    "    for j in range(row):\n",
    "        if j < row - i - 1:\n",
    "            print(' ', end='')\n",
    "        else:\n",
    "            print('*', end='')\n",
    "    print()\n",
    "\n",
    "for i in range(row):\n",
    "    for _ in range(row - i - 1):\n",
    "        print(' ', end='')\n",
    "    for _ in range(2 * i + 1):\n",
    "        print('*', end='')\n",
    "    print()"
   ]
  }
 ],
 "metadata": {
  "kernelspec": {
   "display_name": "Python 3",
   "language": "python",
   "name": "python3"
  },
  "language_info": {
   "codemirror_mode": {
    "name": "ipython",
    "version": 3
   },
   "file_extension": ".py",
   "mimetype": "text/x-python",
   "name": "python",
   "nbconvert_exporter": "python",
   "pygments_lexer": "ipython3",
   "version": "3.7.3"
  }
 },
 "nbformat": 4,
 "nbformat_minor": 2
}
